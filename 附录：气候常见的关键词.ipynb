{
 "cells": [
  {
   "cell_type": "markdown",
   "id": "fd7c4492-36ab-47e0-9e2c-b2f7d4b3c4c8",
   "metadata": {},
   "source": [
    "# 气候常见的关键词"
   ]
  },
  {
   "cell_type": "code",
   "execution_count": 1,
   "id": "c260b346-e73f-49e7-826a-794aebac8440",
   "metadata": {},
   "outputs": [],
   "source": [
    "\n",
    "climate_keywords = {\n",
    "    \"Extreme Weather Risk Index\": [\"flood\", \"hurricane\", \"drought\", \"extreme heat\", \"storm\"],\n",
    "    \"Greenhouse Gas Emission Intensity Index\": [\"carbon emission\", \"greenhouse gas\", \"emission intensity\", \"carbon dioxide\", \"emission reduction target\"],\n",
    "    \"Climate Adaptability and Resilience Index\": [\"climate resilience\", \"infrastructure upgrade\", \"emergency plan\", \"climate adaptation\", \"adaptation plan\"],\n",
    "    \"Renewable Energy Investment and Transition Progress Index\": [\"renewable energy\", \"solar power\", \"wind power\", \"low-carbon technology\", \"energy transition\"],\n",
    "    \"Policy and Legal Risk Index\": [\"carbon tax\", \"emission trading\", \"climate regulation\", \"policy uncertainty\", \"carbon pricing\"]\n",
    "}\n"
   ]
  }
 ],
 "metadata": {
  "kernelspec": {
   "display_name": "Python 3 (ipykernel)",
   "language": "python",
   "name": "python3"
  },
  "language_info": {
   "codemirror_mode": {
    "name": "ipython",
    "version": 3
   },
   "file_extension": ".py",
   "mimetype": "text/x-python",
   "name": "python",
   "nbconvert_exporter": "python",
   "pygments_lexer": "ipython3",
   "version": "3.11.5"
  }
 },
 "nbformat": 4,
 "nbformat_minor": 5
}
