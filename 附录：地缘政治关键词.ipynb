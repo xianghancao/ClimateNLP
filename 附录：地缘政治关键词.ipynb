{
 "cells": [
  {
   "cell_type": "markdown",
   "id": "024a470e-bc81-4180-82e0-736a64c1f789",
   "metadata": {},
   "source": [
    "# 地缘政治关键词"
   ]
  },
  {
   "cell_type": "code",
   "execution_count": null,
   "id": "9663f321-2aa6-40a6-a888-2f15587db932",
   "metadata": {},
   "outputs": [],
   "source": [
    "\n",
    "# 1. Define keyword dictionaries (Geopolitical Risk and Climate Risk)\n",
    "geopolitical_keywords = {\n",
    "    \"Conflict Index\": [\"war\", \"military conflict\", \"regional unrest\", \"terrorism\", \"armed conflict\"],\n",
    "    \"Political Instability Index\": [\"regime change\", \"political unrest\", \"election uncertainty\", \"policy change\", \"government turnover\"],\n",
    "    \"Economic Sanctions and Trade Wars Index\": [\"sanctions\", \"tariff barriers\", \"export controls\", \"trade friction\", \"trade war\"],\n",
    "    \"Diplomatic Relations and Alliances Index\": [\"bilateral agreement\", \"international cooperation\", \"strategic partnership\", \"diplomatic tension\", \"diplomatic relations\"],\n",
    "    \"Geopolitical Sentiment Index\": [\"market concern\", \"investor sentiment\", \"public opinion\", \"geopolitical risk\", \"social unrest\"]\n",
    "}\n"
   ]
  }
 ],
 "metadata": {
  "kernelspec": {
   "display_name": "Python 3 (ipykernel)",
   "language": "python",
   "name": "python3"
  },
  "language_info": {
   "codemirror_mode": {
    "name": "ipython",
    "version": 3
   },
   "file_extension": ".py",
   "mimetype": "text/x-python",
   "name": "python",
   "nbconvert_exporter": "python",
   "pygments_lexer": "ipython3",
   "version": "3.11.5"
  }
 },
 "nbformat": 4,
 "nbformat_minor": 5
}
