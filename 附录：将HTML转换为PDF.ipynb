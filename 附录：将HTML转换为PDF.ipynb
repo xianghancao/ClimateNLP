{
 "cells": [
  {
   "cell_type": "markdown",
   "id": "cb286d58-a685-422d-8073-ddf414875e01",
   "metadata": {},
   "source": [
    "# 附录：将HTML转换为PDF"
   ]
  },
  {
   "cell_type": "markdown",
   "id": "687c4add-b4d7-4630-aeef-f14e46e24d79",
   "metadata": {},
   "source": [
    "2.5 将HTML转换为PDF（可选）\n",
    "EDGAR的报告通常以HTML或TXT格式提供，如果你需要PDF，可以使用工具将HTML转换为PDF。例如，使用wkhtmltopdf工具：\n",
    "\n",
    "安装wkhtmltopdf：\n",
    "Windows/Mac/Linux：从官网（https://wkhtmltopdf.org/）下载并安装。\n",
    "Python：安装Python绑定库：\n",
    "bash\n",
    "\n",
    "\n",
    "\n"
   ]
  },
  {
   "cell_type": "code",
   "execution_count": null,
   "id": "c11b1843-5dfd-432f-b721-870891ce4de6",
   "metadata": {},
   "outputs": [],
   "source": [
    "pip install pdfkit"
   ]
  },
  {
   "cell_type": "code",
   "execution_count": null,
   "id": "381b0a7a-0725-49a9-922c-bde9adf363e8",
   "metadata": {},
   "outputs": [],
   "source": [
    "import pdfkit\n",
    "\n",
    "# 将下载的HTML文件转换为PDF\n",
    "html_file = \"sec_filings/AAPL_10-K_2023-10-27.html\"\n",
    "pdf_file = \"sec_filings/AAPL_10-K_2023-10-27.pdf\"\n",
    "pdfkit.from_file(html_file, pdf_file)\n",
    "print(f\"Converted to PDF: {pdf_file}\")"
   ]
  }
 ],
 "metadata": {
  "kernelspec": {
   "display_name": "Python 3 (ipykernel)",
   "language": "python",
   "name": "python3"
  },
  "language_info": {
   "codemirror_mode": {
    "name": "ipython",
    "version": 3
   },
   "file_extension": ".py",
   "mimetype": "text/x-python",
   "name": "python",
   "nbconvert_exporter": "python",
   "pygments_lexer": "ipython3",
   "version": "3.11.5"
  }
 },
 "nbformat": 4,
 "nbformat_minor": 5
}
