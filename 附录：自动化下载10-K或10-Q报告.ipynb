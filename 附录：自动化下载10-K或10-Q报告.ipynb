{
 "cells": [
  {
   "cell_type": "markdown",
   "id": "ba6b7d9d-4eef-4615-be3b-a49fb5ccb484",
   "metadata": {},
   "source": [
    "# 自动化下载10-K或10-Q报告"
   ]
  },
  {
   "cell_type": "markdown",
   "id": "cc9aab18-fb35-44b3-9905-4f87af7276ec",
   "metadata": {},
   "source": [
    "## 1 Auto download\n",
    "如果你需要批量下载多家公司的10-K或10-Q报告，或者需要定期获取数据，使用Python等编程语言自动化下载是更高效的方式。以下是具体步骤和示例代码。"
   ]
  },
  {
   "cell_type": "markdown",
   "id": "9f02705c-7c09-4d37-ae7c-8e4fa1727b4b",
   "metadata": {},
   "source": [
    "pip install requests beautifulsoup4 sec-edgar-downloader pandas"
   ]
  },
  {
   "cell_type": "markdown",
   "id": "c1e4063a-e8ee-4d8f-a702-ff705706f4c3",
   "metadata": {},
   "source": [
    "2.2 获取公司CIK\n",
    "每家上市公司在EDGAR数据库中都有一个唯一的CIK号，用于标识公司。你需要知道目标公司的CIK，可以通过以下方式获取：\n",
    "在EDGAR主页使用“CIK Lookup”工具，手动搜索公司名称或股票代码。\n",
    "或者，使用编程方式从SEC提供的CIK列表文件中获取（文件地址：https://www.sec.gov/Archives/edgar/cik-lookup-data.txt）。"
   ]
  },
  {
   "cell_type": "markdown",
   "id": "73cb1e08-eced-4a53-9881-d4845fc3c7de",
   "metadata": {},
   "source": [
    "2.3 使用sec-edgar-downloader库下载\n",
    "sec-edgar-downloader是一个专门为EDGAR数据库设计的Python库，可以方便地下载10-K或10-Q报告。以下是示例代码："
   ]
  },
  {
   "cell_type": "code",
   "execution_count": 4,
   "id": "23b73424-8258-41fc-bfb2-ac8a1b25159f",
   "metadata": {},
   "outputs": [
    {
     "data": {
      "text/plain": [
       "1"
      ]
     },
     "execution_count": 4,
     "metadata": {},
     "output_type": "execute_result"
    }
   ],
   "source": [
    "from sec_edgar_downloader import Downloader\n",
    "\n",
    "# 初始化下载器，需提供公司名称和邮箱地址（用于生成符合SEC政策的User-Agent）\n",
    "# 文件将下载到指定路径（此处为当前目录）\n",
    "output_folder = \"/Users/xhc/Documents/2 Doing/[PhD]AI实验/datasets\"\n",
    "dl = Downloader(\"XDSISU\", \"caoxianghan@gmail.com\", output_folder)\n",
    "\n",
    "# 下载Apple（股票代码：AAPL）的所有10-K报告\n",
    "#dl.get(\"10-K\", \"AAPL\", limit=3)\n",
    "\n",
    "# 下载Apple的最近5份10-Q报告\n",
    "#dl.get(\"10-Q\", \"XOM\", limit=30)\n",
    "\n",
    "# 下载Apple在特定日期范围内的10-K报告（日期格式为\"YYYY-MM-DD\"）\n",
    "dl.get(\"10-K\", \"NEE\", after=\"2015-01-01\", before=\"2016-01-31\")\n",
    "\n",
    "# 下载多个公司的10-K报告（使用股票代码或CIK）\n",
    "#tickers = [\"AAPL\", \"MSFT\", \"GOOGL\"]  # 公司列表\n",
    "#for ticker in tickers:\n",
    "#    dl.get(\"10-K\", ticker, limit=3)  # 每家公司下载最近3份10-K"
   ]
  },
  {
   "cell_type": "markdown",
   "id": "a6f66dd0-21c7-4609-9e9e-c870c765b934",
   "metadata": {},
   "source": [
    "代码说明：\n",
    "\n",
    "Downloader对象需要提供公司名称和邮箱地址，这是SEC的政策要求，用于生成User-Agent。\n",
    "dl.get方法的参数：\n",
    "第一个参数是报告类型（如\"10-K\"或\"10-Q\"）。\n",
    "第二个参数是股票代码或CIK（如\"AAPL\"或\"0000320193\"）。\n",
    "limit参数限制下载的报告数量（可选）。\n",
    "after和before参数指定日期范围（可选）。\n",
    "下载的文件将保存到指定路径，默认以公司代码和报告类型组织文件夹结构。"
   ]
  },
  {
   "cell_type": "code",
   "execution_count": 5,
   "id": "109e159d-a64d-4810-9e1c-00fe3280057d",
   "metadata": {},
   "outputs": [],
   "source": [
    "import os\n",
    "import re\n",
    "\n",
    "# 1. 定义函数：提取 <DOCUMENT> 之后的内容并保存为 .htm 文件\n",
    "def process_txt_file(txt_path, output_folder, file_name):\n",
    "    try:\n",
    "        # 获取文件名（不含扩展名）\n",
    "        base_name = os.path.splitext(os.path.basename(txt_path))[0]\n",
    "        # 定义新的文件名，扩展名为 .htm\n",
    "        new_file_name = f\"{base_name}-{file_name}.htm\"\n",
    "        output_path = os.path.join(output_folder, new_file_name)\n",
    "        \n",
    "        # 检查是否已经存在 .htm 文件\n",
    "        if os.path.exists(output_path):\n",
    "            print(f\"Skipping {txt_path}: {new_file_name} already exists in {output_folder}.\")\n",
    "            return\n",
    "        \n",
    "        # 读取 txt 文件内容\n",
    "        with open(txt_path, 'r', encoding='utf-8') as file:\n",
    "            content = file.read()\n",
    "        \n",
    "        # 查找 <DOCUMENT> 标签的位置\n",
    "        document_start = content.find('<DOCUMENT>')\n",
    "        if document_start == -1:\n",
    "            print(f\"Warning: <DOCUMENT> tag not found in {txt_path}. Skipping file.\")\n",
    "            return\n",
    "        \n",
    "        # 提取 <DOCUMENT> 之后的内容\n",
    "        cleaned_content = content[document_start:]\n",
    "        \n",
    "        # 保存为新的 .htm 文件\n",
    "        with open(output_path, 'w', encoding='utf-8') as output_file:\n",
    "            output_file.write(cleaned_content)\n",
    "        \n",
    "        #print(f\"Processed {txt_path} -> {output_path}\")\n",
    "    \n",
    "    except Exception as e:\n",
    "        print(f\"Error processing {txt_path}: {e}\")\n",
    "\n",
    "# 2. 定义函数：批量处理文件夹中的 txt 文件\n",
    "def process_folder(input_folder, output_folder, file_name):\n",
    "    # 确保输出文件夹存在\n",
    "    if not os.path.exists(output_folder):\n",
    "        os.makedirs(output_folder)\n",
    "    \n",
    "    # 遍历输入文件夹中的所有文件\n",
    "    for filename in os.listdir(input_folder):\n",
    "        if filename.endswith('.txt'):  # 只处理 .txt 文件\n",
    "            txt_path = os.path.join(input_folder, filename)\n",
    "            process_txt_file(txt_path, output_folder, file_name)\n",
    "        elif filename.endswith('.htm'):  # 如果是 .htm 文件，跳过\n",
    "            print(f\"Skipping {filename}: File is already in .htm format.\")\n",
    "        else:\n",
    "            print(f\"Skipping {filename}: Unsupported file format.\")\n"
   ]
  },
  {
   "cell_type": "code",
   "execution_count": 9,
   "id": "770fdd22-ee9f-4799-b5e2-2fa0c79a3f7d",
   "metadata": {},
   "outputs": [
    {
     "name": "stdout",
     "output_type": "stream",
     "text": [
      "0000753308-19-000165\n",
      "0000753308-17-000081\n",
      "0000753308-18-000159\n",
      "0000753308-21-000108\n",
      "0000753308-20-000150\n",
      "0000753308-23-000045\n",
      "0000753308-15-000249\n",
      "0000753308-17-000109\n",
      "0000753308-19-000207\n",
      "0000753308-22-000055\n",
      "0000753308-23-000058\n",
      "0000753308-21-000148\n",
      "0000753308-15-000206\n",
      "0000753308-20-000186\n",
      "0000753308-23-000033\n",
      "0000753308-24-000023\n",
      "0000753308-24-000050\n",
      "0000753308-24-000057\n",
      "0000753308-16-000444\n",
      "0000753308-15-000166\n",
      "0000753308-21-000167\n",
      "0000753308-22-000081\n",
      "0000753308-18-000081\n",
      "0000753308-22-000033\n",
      "0000753308-17-000142\n",
      "0000753308-20-000113\n",
      "0000753308-16-000372\n",
      "0000753308-16-000402\n",
      "0000753308-18-000114\n",
      "0000753308-19-000118\n"
     ]
    }
   ],
   "source": [
    "import os\n",
    "\n",
    "folder = \"/Users/xhc/Documents/2 Doing/[PhD]AI实验/datasets/sec-edgar-filings/NEE/10-Q/\"\n",
    "output_folder = \"/Users/xhc/Documents/2 Doing/[PhD]AI实验/datasets/sec-edgar-filings/NEE/10-Q-htm/\"\n",
    "for i in os.listdir(folder):\n",
    "    if '.DS_Store' in i: continue\n",
    "    print(i)\n",
    "    input_folder = os.path.join(folder, i)\n",
    "    # 运行批量处理\n",
    "    process_folder(input_folder, output_folder, i)"
   ]
  },
  {
   "cell_type": "code",
   "execution_count": null,
   "id": "8f0df834-ab9a-40e9-834f-37672b695ec3",
   "metadata": {},
   "outputs": [],
   "source": []
  }
 ],
 "metadata": {
  "kernelspec": {
   "display_name": "Python 3 (ipykernel)",
   "language": "python",
   "name": "python3"
  },
  "language_info": {
   "codemirror_mode": {
    "name": "ipython",
    "version": 3
   },
   "file_extension": ".py",
   "mimetype": "text/x-python",
   "name": "python",
   "nbconvert_exporter": "python",
   "pygments_lexer": "ipython3",
   "version": "3.11.5"
  }
 },
 "nbformat": 4,
 "nbformat_minor": 5
}
