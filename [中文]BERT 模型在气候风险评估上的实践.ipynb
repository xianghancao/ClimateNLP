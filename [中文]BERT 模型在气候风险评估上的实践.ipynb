{
 "cells": [
  {
   "cell_type": "markdown",
   "id": "8bea91ce-27b2-441f-a468-327dc52e7968",
   "metadata": {},
   "source": [
    "# BERT 模型在气候风险评估上的实践"
   ]
  },
  {
   "cell_type": "markdown",
   "id": "b457662e-5075-463b-9b12-5e792b302f21",
   "metadata": {},
   "source": [
    "## 1. 引言"
   ]
  },
  {
   "cell_type": "markdown",
   "id": "ff8a4b38-02b9-4e0c-80db-9966b4ed7b9a",
   "metadata": {},
   "source": [
    "气候变化对社会、经济和环境的影响广受关注，而准确评估相关术语的风险和正面影响至关重要。例如，“碳税”（carbon tax）、“可再生能源”（renewable energy）和“洪水”（flood）等关键词在不同语境下可能具有不同的风险等级和正面价值。传统方法主要依赖专家判断或统计分析，难以高效处理大规模文本数据并捕捉复杂语义关系。\n",
    "\n",
    "近年来，基于 Transformer 的预训练语言模型（如 BERT）在文本理解和多标签任务中表现优异。然而，在气候变化研究中，NLP 技术的应用仍较有限，特别是在关键词风险与正面影响评估方面。\n",
    "\n",
    "本研究利用 BERT 模型对 25 个气候变化相关关键词进行风险和正面评分，并探索其在政策制定、风险管理和公众沟通中的潜在价值。研究创新点包括：（1）首次将 BERT 应用于该任务；（2）设计同时预测风险与正面分数的训练方法；（3）通过误差分析和可视化评估模型表现。\n",
    "\n",
    "本文结构如下：第 2 节介绍数据准备与预处理，第 3 节描述模型训练与评估，第 4 节展示实验结果，第 5 节讨论模型局限性，第 6 节总结研究发现并展望未来工作。"
   ]
  },
  {
   "cell_type": "markdown",
   "id": "8c9a4be5-c7b1-42cc-a9dc-4b1da321670b",
   "metadata": {},
   "source": [
    "### 1.1 量化气候变化"
   ]
  },
  {
   "cell_type": "markdown",
   "id": "f8bfc41e-37f5-4cf2-a79d-335e3197abf6",
   "metadata": {},
   "source": [
    "本文通过 气候风险维度（risk score）和 气候积极性维度（positive score）对气候变化相关术语进行量化评估，以便更好地理解不同关键词在政策、风险管理和社会认知中的作用。"
   ]
  },
  {
   "cell_type": "markdown",
   "id": "44003f2d-fdc0-4345-a351-7e4575936e67",
   "metadata": {},
   "source": [
    "#### A) 气候风险维度"
   ]
  },
  {
   "cell_type": "markdown",
   "id": "18805567-d3c1-449d-80c3-05657720fc83",
   "metadata": {},
   "source": [
    "该维度衡量某个词汇在气候变化相关语境下的潜在负面影响或风险程度。"
   ]
  },
  {
   "cell_type": "markdown",
   "id": "0dba6796-83ac-4dae-8203-3e5027abfe67",
   "metadata": {},
   "source": [
    "- 高风险词汇（得分 8-10）：与自然灾害、极端天气事件或政策不确定性相关的词汇，例如 \"flood\", \"hurricane\", \"policy uncertainty\"。这类风险可能带来较大社会经济损失。\n",
    "- 中等风险词汇（得分 5-7）：与排放或监管相关的词汇，例如 \"carbon emission\", \"climate regulation\"，这类风险反映政策和市场的调控力度。\n",
    "- 低风险词汇（得分 0-4）：与积极行动或技术相关的词汇，例如 \"renewable energy\", \"emission reduction target\"。这类风险对环境影响较小甚至有助于减少风险。"
   ]
  },
  {
   "cell_type": "markdown",
   "id": "cf5f9edb-5c7e-4d3e-b66b-b3f9dafbe190",
   "metadata": {},
   "source": [
    "#### B) 气候积极性维度\n",
    "该维度衡量某个词汇在应对气候变化方面的正面贡献或积极性。\n",
    "- 高积极性词汇（得分 8-10）：与减排、可再生能源或适应措施相关的词汇，例如 \"renewable energy\", \"emission reduction target\", \"climate adaptation\"。这类词汇代表了气候政策和可持续发展的核心。\n",
    "- 中等积极性词汇（得分 5-7）：与技术或政策工具相关的词汇，例如 \"low-carbon technology\", \"carbon pricing\"。\n",
    "- 低积极性词汇（得分 0-4）：与风险或问题相关的词汇，例如 \"flood\", \"hurricane\"。"
   ]
  },
  {
   "cell_type": "markdown",
   "id": "72af7b14-b405-4c24-bd64-b6fa2f28c436",
   "metadata": {},
   "source": [
    "未来，可结合专家意见对评分体系进行调整，以提高评估的准确性和适用性。"
   ]
  },
  {
   "cell_type": "code",
   "execution_count": 1,
   "id": "0d1f0dc4-2dc5-4521-a3e9-a5e53fe12e48",
   "metadata": {},
   "outputs": [],
   "source": [
    "risk_scores = {\n",
    "    \"flood\": 10, \"hurricane\": 10, \"drought\": 10, \"extreme heat\": 9,\n",
    "    \"storm\": 9, \"policy uncertainty\": 8, \"carbon emission\": 7,\n",
    "    \"greenhouse gas\": 7, \"emission intensity\": 6, \"carbon dioxide\": 6, \n",
    "    \"climate regulation\": 6, \"carbon tax\": 5, \"emission trading\": 5,\n",
    "    \"carbon pricing\": 5,\"emission reduction target\": 4,\n",
    "    \"climate resilience\": 3, \"infrastructure upgrade\": 3, \n",
    "    \"emergency plan\": 3, \"climate adaptation\": 3, \"adaptation plan\": 3, \n",
    "    \"renewable energy\": 2, \"solar power\": 2, \"wind power\": 2,\n",
    "    \"low-carbon technology\": 2, \"energy transition\": 2\n",
    "}\n",
    "\n",
    "positive_scores = {\n",
    "    \"renewable energy\": 10, \"solar power\": 10, \"wind power\": 10,\n",
    "    \"low-carbon technology\": 9, \"energy transition\": 9,\n",
    "    \"emission reduction target\": 9, \"climate adaptation\": 8, \n",
    "    \"adaptation plan\": 8, \"climate resilience\": 8,\n",
    "    \"infrastructure upgrade\": 8, \"emergency plan\": 8,\n",
    "    \"carbon tax\": 7, \"emission trading\": 7, \"carbon pricing\": 7,\n",
    "    \"climate regulation\": 6, \"carbon emission\": 4, \"greenhouse gas\": 4,\n",
    "    \"emission intensity\": 3, \"carbon dioxide\": 3, \"flood\": 2, \"hurricane\": 2,\n",
    "    \"drought\": 2, \"extreme heat\": 2, \"storm\": 2, \"policy uncertainty\": 1\n",
    "}"
   ]
  },
  {
   "cell_type": "code",
   "execution_count": 2,
   "id": "e9f937b2-1b8b-40a0-8e2b-c9d92517bfd6",
   "metadata": {},
   "outputs": [],
   "source": [
    "keywords = list(risk_scores.keys()) "
   ]
  },
  {
   "cell_type": "markdown",
   "id": "66017ba6-ce87-46d5-9045-62b1da5d5b49",
   "metadata": {},
   "source": [
    "## 2. 数据准备与预处理"
   ]
  },
  {
   "cell_type": "markdown",
   "id": "4fc2160e-81d4-41ab-b49b-87f6c1ea22ad",
   "metadata": {},
   "source": [
    "### 2.1 创建数据集"
   ]
  },
  {
   "cell_type": "markdown",
   "id": "df9ee2a5-6fa7-4ec2-86ca-446660541fa4",
   "metadata": {},
   "source": [
    "首先，创建一个包含关键词、风险评分（risk_label）和正面评分（positive_label）的数据集，并将分数归一化到 0-1 之间（除以 10）。然后，它使用 Dataset.from_dict() 将数据转换为 Hugging Face datasets 库支持的数据集格式，以便用于后续的模型训练或分析。"
   ]
  },
  {
   "cell_type": "code",
   "execution_count": 3,
   "id": "ffe55836-ceec-4e22-b909-006e5c636328",
   "metadata": {},
   "outputs": [],
   "source": [
    "from datasets import Dataset\n",
    "import numpy as np\n",
    "\n",
    "# 创建数据集， \n",
    "data = {\n",
    "    \"text\": keywords,\n",
    "    \"risk_label\": [risk_scores.get(kw, 0) / 10.0 for kw in keywords],  \n",
    "    \"positive_label\": [positive_scores.get(kw, 0) / 10.0 for kw in keywords]\n",
    "}\n",
    "dataset = Dataset.from_dict(data)\n"
   ]
  },
  {
   "cell_type": "markdown",
   "id": "49ae066c-679a-444e-86c2-2bd90befdcb5",
   "metadata": {},
   "source": [
    "### 2.2 加载预训练模型和分词器"
   ]
  },
  {
   "cell_type": "markdown",
   "id": "5d243d28-ddae-474b-9027-b15876cdaf96",
   "metadata": {},
   "source": [
    "接着，加载预训练的 BERT 模型（bert-base-uncased），并将其配置为双标签分类任务（num_labels=2，用于预测风险分数和正面分数）。同时，它还加载了对应的 BERT 分词器（AutoTokenizer），用于将文本转换为模型可接受的输入格式。"
   ]
  },
  {
   "cell_type": "code",
   "execution_count": 4,
   "id": "0802b765-2699-4588-8f6f-6f9798df0cf9",
   "metadata": {},
   "outputs": [
    {
     "name": "stderr",
     "output_type": "stream",
     "text": [
      "Some weights of BertForSequenceClassification were not initialized from the model checkpoint at bert-base-uncased and are newly initialized: ['classifier.bias', 'classifier.weight']\n",
      "You should probably TRAIN this model on a down-stream task to be able to use it for predictions and inference.\n"
     ]
    }
   ],
   "source": [
    "from transformers import AutoModelForSequenceClassification, AutoTokenizer, Trainer\n",
    "model_name = \"bert-base-uncased\"\n",
    "model = AutoModelForSequenceClassification.from_pretrained(model_name, num_labels=2)  \n",
    "tokenizer = AutoTokenizer.from_pretrained(model_name)"
   ]
  },
  {
   "cell_type": "markdown",
   "id": "1336e1b7-cd26-4124-accb-7beee3fa8063",
   "metadata": {},
   "source": [
    "### 2.3 数据预处理函数"
   ]
  },
  {
   "cell_type": "markdown",
   "id": "0d8b8e09-749b-48d0-ac02-b7c28cde0c4b",
   "metadata": {},
   "source": [
    "接着，定义一个预处理函数 preprocess_function，用于将文本数据进行编码，处理为固定长度的输入，并将风险标签和正向标签组合成一个新的标签字段返回。"
   ]
  },
  {
   "cell_type": "code",
   "execution_count": 5,
   "id": "bc97b725-7ca7-41b0-8ae1-1f4df53a563a",
   "metadata": {},
   "outputs": [],
   "source": [
    "def preprocess_function(examples):\n",
    "    encodings = tokenizer(examples[\"text\"], truncation=True,\n",
    "                          padding=\"max_length\", max_length=128)\n",
    "    encodings[\"labels\"] = np.array(list(zip(examples[\"risk_label\"],\n",
    "                                            examples[\"positive_label\"])),\n",
    "                                   dtype=np.float32)\n",
    "    return encodings"
   ]
  },
  {
   "cell_type": "markdown",
   "id": "032af48d-56db-4634-9609-48fe51a0ef0c",
   "metadata": {},
   "source": [
    "### 2.4 对数据集进行编码"
   ]
  },
  {
   "cell_type": "markdown",
   "id": "93586620-a553-44b0-8217-95702c8eb89b",
   "metadata": {},
   "source": [
    "接下来，使用 map 方法对数据集进行批量预处理，调用 preprocess_function 来处理每条数据；接着移除原始的文本和标签列，最后将数据集按照80%训练集和20%测试集的比例进行拆分。"
   ]
  },
  {
   "cell_type": "code",
   "execution_count": 6,
   "id": "72a3451d-b17e-472a-b042-02ee45b9a048",
   "metadata": {},
   "outputs": [
    {
     "data": {
      "application/vnd.jupyter.widget-view+json": {
       "model_id": "d604560fd6aa45e98b558d8201c91c53",
       "version_major": 2,
       "version_minor": 0
      },
      "text/plain": [
       "Map:   0%|          | 0/25 [00:00<?, ? examples/s]"
      ]
     },
     "metadata": {},
     "output_type": "display_data"
    }
   ],
   "source": [
    "encoded_dataset = dataset.map(preprocess_function, batched=True)"
   ]
  },
  {
   "cell_type": "code",
   "execution_count": 7,
   "id": "ad8deeaa-0d74-4b07-a63d-045728be8650",
   "metadata": {},
   "outputs": [],
   "source": [
    "encoded_dataset = encoded_dataset.remove_columns([\"text\", \"risk_label\",\n",
    "                                                  \"positive_label\"])"
   ]
  },
  {
   "cell_type": "code",
   "execution_count": 8,
   "id": "bc1c9836-9919-4c44-b977-84e22552bb71",
   "metadata": {},
   "outputs": [],
   "source": [
    "encoded_dataset = encoded_dataset.train_test_split(test_size=0.2)"
   ]
  },
  {
   "cell_type": "markdown",
   "id": "658dfce8-7495-46ab-9c6f-c0af2865f3da",
   "metadata": {},
   "source": [
    "### 2.5 自定义 Trainer 来处理两个标签（风险和正面分数）"
   ]
  },
  {
   "cell_type": "markdown",
   "id": "bc51825b-f3f8-4a4c-9289-6b41bbcb3092",
   "metadata": {},
   "source": [
    "然后，定义一个自定义的训练器 CustomTrainer，它通过重写计算损失的方式来优化模型训练。具体来说，它计算模型的预测结果与实际标签之间的差距（使用均方误差MSE），并返回损失值用于训练。"
   ]
  },
  {
   "cell_type": "code",
   "execution_count": 9,
   "id": "5248d4c8-dfd9-4621-a61c-f438e1dce20a",
   "metadata": {},
   "outputs": [],
   "source": [
    "from transformers import TrainingArguments, Trainer\n",
    "import torch\n",
    "\n",
    "class CustomTrainer(Trainer):\n",
    "    def compute_loss(self, model, inputs, return_outputs=False, **kwargs):\n",
    "        labels = inputs[\"labels\"]\n",
    "        if isinstance(labels, np.ndarray):  # 兼容 NumPy 格式\n",
    "            labels = torch.tensor(labels, dtype=torch.float32).to(model.device)\n",
    "\n",
    "        model_inputs = {k: v for k, v in inputs.items() if k != \"labels\"}\n",
    "        outputs = model(**model_inputs)\n",
    "        logits = outputs.logits\n",
    "        loss_fct = torch.nn.MSELoss()\n",
    "        loss = loss_fct(logits, labels)\n",
    "        return (loss, outputs) if return_outputs else loss"
   ]
  },
  {
   "cell_type": "markdown",
   "id": "db17668a-e67f-4cf8-bc16-3465375d9e04",
   "metadata": {},
   "source": [
    "## 3. 模型训练与评估"
   ]
  },
  {
   "cell_type": "markdown",
   "id": "b0e28c1f-edda-496d-9805-e4c4532ed2e7",
   "metadata": {},
   "source": [
    "### 3.1 定义评估指标"
   ]
  },
  {
   "cell_type": "markdown",
   "id": "be6f253a-483c-4c44-9df6-a5f3bb2392ed",
   "metadata": {},
   "source": [
    "然后，设计函数计算模型预测值与真实标签之间的均方误差（MSE），并返回一个包含 MSE 的字典。"
   ]
  },
  {
   "cell_type": "code",
   "execution_count": 10,
   "id": "617f0101-80c9-4cb9-8f15-862534eab641",
   "metadata": {},
   "outputs": [],
   "source": [
    "def compute_metrics(eval_pred):\n",
    "    predictions, labels = eval_pred\n",
    "    if isinstance(predictions, tuple):  # 兼容不同 Trainer 版本\n",
    "        predictions = predictions[0]\n",
    "\n",
    "    mse = np.mean((predictions - labels) ** 2)\n",
    "    return {\"mse\": mse}"
   ]
  },
  {
   "cell_type": "markdown",
   "id": "267d4834-1046-4de6-be9d-006e2cbc81da",
   "metadata": {},
   "source": [
    "### 3.2 设置训练参数"
   ]
  },
  {
   "cell_type": "markdown",
   "id": "849ead09-e66e-4d11-ad34-0356b7e0e1aa",
   "metadata": {},
   "source": [
    "再然后，定义训练参数 training_args，设置输出目录、评估策略、学习率、批次大小、训练轮数、权重衰减、日志记录和保存策略等训练配置。具体而言，它将在每个训练周期进行评估和保存，并每10步记录一次日志。"
   ]
  },
  {
   "cell_type": "code",
   "execution_count": 11,
   "id": "e8e2daef-bd3c-469d-8b4f-ac38619d69b3",
   "metadata": {},
   "outputs": [],
   "source": [
    "training_args = TrainingArguments(\n",
    "    output_dir=\"./results\",\n",
    "    eval_strategy=\"epoch\",\n",
    "    learning_rate=2e-5,\n",
    "    per_device_train_batch_size=8,\n",
    "    per_device_eval_batch_size=8,\n",
    "    num_train_epochs=20,\n",
    "    weight_decay=0.01,\n",
    "    logging_strategy=\"steps\",\n",
    "    logging_steps=10,\n",
    "    save_strategy=\"epoch\",\n",
    ")"
   ]
  },
  {
   "cell_type": "markdown",
   "id": "c3875763-6cff-4ea7-8845-05e9bbdba640",
   "metadata": {},
   "source": [
    "### 3.3 初始化 Trainer"
   ]
  },
  {
   "cell_type": "markdown",
   "id": "db7df742-6c25-48f9-bdb9-effc05d35047",
   "metadata": {},
   "source": [
    "这段代码创建了一个 CustomTrainer 实例，传入了模型、训练参数、训练集、测试集和计算评估指标的函数，用于训练和评估模型。"
   ]
  },
  {
   "cell_type": "code",
   "execution_count": 12,
   "id": "64b813f0-a32e-4bf6-b0ed-c6f51125bf37",
   "metadata": {},
   "outputs": [],
   "source": [
    "trainer = CustomTrainer(\n",
    "    model=model,\n",
    "    args=training_args,\n",
    "    train_dataset=encoded_dataset[\"train\"],\n",
    "    eval_dataset=encoded_dataset[\"test\"],\n",
    "    compute_metrics=compute_metrics,\n",
    ")"
   ]
  },
  {
   "cell_type": "markdown",
   "id": "a05310cc-7825-4848-b77b-9406fe68dbcc",
   "metadata": {},
   "source": [
    "### 3.4 训练模型"
   ]
  },
  {
   "cell_type": "code",
   "execution_count": 13,
   "id": "8c5679f3-686c-4c54-902f-fc3da9425c57",
   "metadata": {},
   "outputs": [
    {
     "data": {
      "text/html": [
       "\n",
       "    <div>\n",
       "      \n",
       "      <progress value='60' max='60' style='width:300px; height:20px; vertical-align: middle;'></progress>\n",
       "      [60/60 00:46, Epoch 20/20]\n",
       "    </div>\n",
       "    <table border=\"1\" class=\"dataframe\">\n",
       "  <thead>\n",
       " <tr style=\"text-align: left;\">\n",
       "      <th>Epoch</th>\n",
       "      <th>Training Loss</th>\n",
       "      <th>Validation Loss</th>\n",
       "      <th>Mse</th>\n",
       "    </tr>\n",
       "  </thead>\n",
       "  <tbody>\n",
       "    <tr>\n",
       "      <td>1</td>\n",
       "      <td>No log</td>\n",
       "      <td>0.314457</td>\n",
       "      <td>0.314457</td>\n",
       "    </tr>\n",
       "    <tr>\n",
       "      <td>2</td>\n",
       "      <td>No log</td>\n",
       "      <td>0.150936</td>\n",
       "      <td>0.150936</td>\n",
       "    </tr>\n",
       "    <tr>\n",
       "      <td>3</td>\n",
       "      <td>No log</td>\n",
       "      <td>0.083095</td>\n",
       "      <td>0.083095</td>\n",
       "    </tr>\n",
       "    <tr>\n",
       "      <td>4</td>\n",
       "      <td>0.256200</td>\n",
       "      <td>0.084059</td>\n",
       "      <td>0.084059</td>\n",
       "    </tr>\n",
       "    <tr>\n",
       "      <td>5</td>\n",
       "      <td>0.256200</td>\n",
       "      <td>0.070650</td>\n",
       "      <td>0.070650</td>\n",
       "    </tr>\n",
       "    <tr>\n",
       "      <td>6</td>\n",
       "      <td>0.256200</td>\n",
       "      <td>0.073462</td>\n",
       "      <td>0.073462</td>\n",
       "    </tr>\n",
       "    <tr>\n",
       "      <td>7</td>\n",
       "      <td>0.084900</td>\n",
       "      <td>0.061905</td>\n",
       "      <td>0.061905</td>\n",
       "    </tr>\n",
       "    <tr>\n",
       "      <td>8</td>\n",
       "      <td>0.084900</td>\n",
       "      <td>0.030397</td>\n",
       "      <td>0.030397</td>\n",
       "    </tr>\n",
       "    <tr>\n",
       "      <td>9</td>\n",
       "      <td>0.084900</td>\n",
       "      <td>0.036832</td>\n",
       "      <td>0.036832</td>\n",
       "    </tr>\n",
       "    <tr>\n",
       "      <td>10</td>\n",
       "      <td>0.045900</td>\n",
       "      <td>0.030561</td>\n",
       "      <td>0.030561</td>\n",
       "    </tr>\n",
       "    <tr>\n",
       "      <td>11</td>\n",
       "      <td>0.045900</td>\n",
       "      <td>0.017708</td>\n",
       "      <td>0.017708</td>\n",
       "    </tr>\n",
       "    <tr>\n",
       "      <td>12</td>\n",
       "      <td>0.045900</td>\n",
       "      <td>0.017047</td>\n",
       "      <td>0.017047</td>\n",
       "    </tr>\n",
       "    <tr>\n",
       "      <td>13</td>\n",
       "      <td>0.045900</td>\n",
       "      <td>0.018596</td>\n",
       "      <td>0.018596</td>\n",
       "    </tr>\n",
       "    <tr>\n",
       "      <td>14</td>\n",
       "      <td>0.031800</td>\n",
       "      <td>0.017361</td>\n",
       "      <td>0.017361</td>\n",
       "    </tr>\n",
       "    <tr>\n",
       "      <td>15</td>\n",
       "      <td>0.031800</td>\n",
       "      <td>0.015835</td>\n",
       "      <td>0.015835</td>\n",
       "    </tr>\n",
       "    <tr>\n",
       "      <td>16</td>\n",
       "      <td>0.031800</td>\n",
       "      <td>0.015627</td>\n",
       "      <td>0.015627</td>\n",
       "    </tr>\n",
       "    <tr>\n",
       "      <td>17</td>\n",
       "      <td>0.038900</td>\n",
       "      <td>0.015775</td>\n",
       "      <td>0.015775</td>\n",
       "    </tr>\n",
       "    <tr>\n",
       "      <td>18</td>\n",
       "      <td>0.038900</td>\n",
       "      <td>0.015989</td>\n",
       "      <td>0.015989</td>\n",
       "    </tr>\n",
       "    <tr>\n",
       "      <td>19</td>\n",
       "      <td>0.038900</td>\n",
       "      <td>0.016263</td>\n",
       "      <td>0.016263</td>\n",
       "    </tr>\n",
       "    <tr>\n",
       "      <td>20</td>\n",
       "      <td>0.027700</td>\n",
       "      <td>0.016346</td>\n",
       "      <td>0.016346</td>\n",
       "    </tr>\n",
       "  </tbody>\n",
       "</table><p>"
      ],
      "text/plain": [
       "<IPython.core.display.HTML object>"
      ]
     },
     "metadata": {},
     "output_type": "display_data"
    }
   ],
   "source": [
    "trainer.train()\n",
    "trainer.save_model(\"./trained_model\")"
   ]
  },
  {
   "cell_type": "markdown",
   "id": "4f9c72f7-a6e3-4d4e-a6e1-5811a10cf0c0",
   "metadata": {},
   "source": [
    "表1：模型训练过程中的损失和评估指标\n",
    "\n",
    "该表展示了模型在20个epoch训练过程中的训练损失（Training Loss）、验证损失（Validation Loss）和均方误差（MSE）。可以看出，验证损失在第16个epoch时达到最低值0.015627，表明模型在此时表现最佳。"
   ]
  },
  {
   "cell_type": "markdown",
   "id": "07816d98-a5a2-435c-b6e5-e6ff0f8c1963",
   "metadata": {},
   "source": [
    "## 4. 实验结果与分析"
   ]
  },
  {
   "cell_type": "markdown",
   "id": "afb473d0-3d54-4157-b32b-557d12e2f97a",
   "metadata": {},
   "source": [
    "### 4.1 预测新文本的函数"
   ]
  },
  {
   "cell_type": "markdown",
   "id": "ddfaa923-fe48-455f-9f23-559dcd89c6ae",
   "metadata": {},
   "source": [
    "设计函数 predict_scores 对输入文本进行编码并传入模型进行预测，获取模型输出的 logits，并返回风险评分和正向评分。"
   ]
  },
  {
   "cell_type": "code",
   "execution_count": 14,
   "id": "4744c2c6-d613-4a93-b0c3-786019436d92",
   "metadata": {},
   "outputs": [],
   "source": [
    "def predict_scores(text, model, tokenizer):\n",
    "    # 对输入文本进行编码\n",
    "    inputs = tokenizer(text, return_tensors=\"pt\", truncation=True,\n",
    "                       padding=\"max_length\", max_length=128)\n",
    "    inputs = {key: val.to(model.device) for key, val in inputs.items()}\n",
    "    \n",
    "    # 进行预测\n",
    "    with torch.no_grad():\n",
    "        outputs = model(**inputs)\n",
    "        logits = outputs.logits  # 获取模型输出的 logits\n",
    "    \n",
    "    # 确保 logits 形状正确\n",
    "    if logits.shape[-1] != 2:\n",
    "        raise ValueError(f\"Expected 2 output values (risk, positive),\n",
    "                            but got {logits.shape[-1]}\")\n",
    "    \n",
    "    risk_score, positive_score = logits[0].cpu().numpy()  # 转换为 NumPy 数组\n",
    "    \n",
    "    return float(risk_score), float(positive_score)  # 确保返回的是 Python 数值类型"
   ]
  },
  {
   "cell_type": "markdown",
   "id": "fcdfc4a4-5033-4fdf-a27e-514e6e0a9e79",
   "metadata": {},
   "source": [
    "### 4.2 单个关键词的测试与验证"
   ]
  },
  {
   "cell_type": "markdown",
   "id": "e5930718-2b8f-4dfe-ad0e-d0870c5d351c",
   "metadata": {},
   "source": [
    "对文本 “flood” 进行预测，输出预测的风险评分和正向评分，并与预期的评分进行对比。"
   ]
  },
  {
   "cell_type": "code",
   "execution_count": 15,
   "id": "0d74a25b-2e6a-4e45-aa72-e5c67361e993",
   "metadata": {},
   "outputs": [
    {
     "name": "stdout",
     "output_type": "stream",
     "text": [
      "Text: flood\n",
      "Predicted Risk Score: 9.06 (Expected: 10)\n",
      "Predicted Positive Score: 1.24 (Expected: 2)\n"
     ]
    }
   ],
   "source": [
    "text = \"flood\"\n",
    "risk_score, positive_score = predict_scores(text, model, tokenizer)\n",
    "print(f\"Text: {text}\")\n",
    "print(f\"Predicted Risk Score: {risk_score * 10:.2f} \n",
    "            (Expected: {risk_scores[text]})\")\n",
    "print(f\"Predicted Positive Score: {positive_score * 10:.2f}\n",
    "            (Expected: {positive_scores[text]})\")"
   ]
  },
  {
   "cell_type": "markdown",
   "id": "6c3be37e-345b-4fc1-a79b-c777cae7d605",
   "metadata": {},
   "source": [
    "### 4.3 预测值与真实值的误差"
   ]
  },
  {
   "cell_type": "markdown",
   "id": "174b5692-cc58-4cce-88e5-eecbed7eebf2",
   "metadata": {},
   "source": [
    "设计3个函数包含三个主要功能：1) get_all_predictions 用于获取所有关键词的预测值并记录真实值；2) compute_errors 计算实际值与预测值之间的误差；3) plot_results 可视化预测结果，包括实际值与预测值的散点图以及误差分布的直方图。"
   ]
  },
  {
   "cell_type": "code",
   "execution_count": 16,
   "id": "3092e405-b75a-4d28-bcf8-1416f6caa4e1",
   "metadata": {},
   "outputs": [],
   "source": [
    "import torch\n",
    "import numpy as np\n",
    "import matplotlib.pyplot as plt\n",
    "import seaborn as sns\n",
    "from tqdm import tqdm\n",
    "\n",
    "# 1. 计算所有关键词的预测值\n",
    "def get_all_predictions(keywords, model, tokenizer):\n",
    "    predicted_risk_scores = []\n",
    "    predicted_positive_scores = []\n",
    "    actual_risk_scores = []\n",
    "    actual_positive_scores = []\n",
    "\n",
    "    for keyword in tqdm(keywords, desc=\"Predicting\"):\n",
    "        risk_pred, positive_pred = predict_scores(keyword, model, tokenizer)\n",
    "\n",
    "        # 记录真实值\n",
    "        actual_risk_scores.append(risk_scores[keyword])\n",
    "        actual_positive_scores.append(positive_scores[keyword])\n",
    "\n",
    "        # 记录预测值（如果有归一化，则要 * 10）\n",
    "        predicted_risk_scores.append(risk_pred * 10)\n",
    "        predicted_positive_scores.append(positive_pred * 10)\n",
    "\n",
    "    return actual_risk_scores, predicted_risk_scores,\n",
    "            actual_positive_scores, predicted_positive_scores\n",
    "\n",
    "\n",
    "# 2. 计算误差\n",
    "def compute_errors(actual, predicted):\n",
    "    errors = np.array(predicted) - np.array(actual)  # 计算误差\n",
    "    return errors\n",
    "\n",
    "\n",
    "# 3. 可视化\n",
    "def plot_results(actual, predicted, score_type=\"Risk Score\"):\n",
    "    plt.figure(figsize=(12, 5))\n",
    "\n",
    "    # 真实值 vs 预测值（散点图）\n",
    "    plt.subplot(1, 2, 1)\n",
    "    plt.scatter(actual, predicted, alpha=0.7, color=\"blue\")\n",
    "    plt.plot([min(actual), max(actual)], [min(actual), max(actual)],\n",
    "             \"--\", color=\"red\", label=\"Ideal Prediction\")  # 理想预测线\n",
    "    plt.xlabel(f\"Actual {score_type}\")\n",
    "    plt.ylabel(f\"Predicted {score_type}\")\n",
    "    plt.title(f\"Actual vs. Predicted {score_type}\")\n",
    "    plt.legend()\n",
    "\n",
    "    # 误差分布（直方图）\n",
    "    plt.subplot(1, 2, 2)\n",
    "    errors = compute_errors(actual, predicted)\n",
    "    sns.histplot(errors, bins=20, kde=True, color=\"purple\")\n",
    "    plt.axvline(x=0, color=\"red\", linestyle=\"--\", label=\"Zero Error\")\n",
    "    plt.xlabel(\"Prediction Error\")\n",
    "    plt.ylabel(\"Frequency\")\n",
    "    plt.title(f\"Error Distribution ({score_type})\")\n",
    "    plt.legend()\n",
    "    plt.tight_layout()\n",
    "    plt.show()\n"
   ]
  },
  {
   "cell_type": "code",
   "execution_count": 17,
   "id": "2918e731-edda-436e-aad2-9551d6529028",
   "metadata": {},
   "outputs": [
    {
     "name": "stderr",
     "output_type": "stream",
     "text": [
      "Predicting: 100%|██████████| 25/25 [00:00<00:00, 64.27it/s]\n"
     ]
    },
    {
     "data": {
      "image/png": "[encoded data removed]",
      "text/plain": [
       "<Figure size 1200x500 with 2 Axes>"
      ]
     },
     "metadata": {},
     "output_type": "display_data"
    },
    {
     "data": {
      "image/png": "[encoded data removed]",
      "text/plain": [
       "<Figure size 1200x500 with 2 Axes>"
      ]
     },
     "metadata": {},
     "output_type": "display_data"
    }
   ],
   "source": [
    "actual_risk, predicted_risk, actual_positive, predicted_positive = get_all_predictions(keywords, model, tokenizer)\n",
    "plot_results(actual_risk, predicted_risk, \"Risk Score\")\n",
    "plot_results(actual_positive, predicted_positive, \"Positive Score\")"
   ]
  },
  {
   "cell_type": "markdown",
   "id": "8ab62d1a-c12d-4415-9add-63248b030f4f",
   "metadata": {},
   "source": [
    "图1：风险分数的实际值与预测值对比\n",
    "左图展示了风险分数的实际值与预测值的散点图，红线表示理想预测结果；右图展示了预测误差的分布情况，紫色曲线为核密度估计，红线表示零误差线。"
   ]
  },
  {
   "cell_type": "markdown",
   "id": "c49d80ef-242e-4451-977c-bcd959342d67",
   "metadata": {},
   "source": [
    "理想情况下，所有数据点应紧密分布在红色虚线（y=x）上。然而，实际结果显示部分点存在偏离，且点的分布越分散，模型误差越大，但整体趋势仍然保持正向。在误差分布图中，可以观察到误差围绕 0 波动，表明模型存在一定偏差，仍有优化空间。为了提升模型性能，可以考虑增加训练数据、调整优化器（如采用 MSELoss）、对数据进行归一化处理，以及增加 epoch 训练轮次以提高模型的泛化能力。"
   ]
  },
  {
   "cell_type": "markdown",
   "id": "e3072927-6107-4822-8c31-e75c5b76739d",
   "metadata": {},
   "source": [
    "### 4.4 测试新文本"
   ]
  },
  {
   "cell_type": "markdown",
   "id": "7a7d0ed5-b88e-46cd-b88d-5b966586d5c9",
   "metadata": {},
   "source": [
    "对新文本进行预测，例如\"Our city is investing in renewable energy and climate adaptation.\"，输出预测的风险评分和正向评分，并与“可再生能源”和“气候适应”这两个关键词的预期评分进行对比。"
   ]
  },
  {
   "cell_type": "code",
   "execution_count": 95,
   "id": "05e4a4b2-3734-4294-a82b-4deb39ae1d60",
   "metadata": {},
   "outputs": [
    {
     "name": "stdout",
     "output_type": "stream",
     "text": [
      "Text: Our city is investing in renewable energy and climate adaptation.\n",
      "Predicted Risk Score: 4.62 \n",
      "        (Expected: renewable energy(2),\n",
      "         climate adaptation(3))\n",
      "Predicted Positive Score: 7.10 \n",
      "        (Expected: renewable energy(10),\n",
      "        climate adaptation(8))\n"
     ]
    }
   ],
   "source": [
    "new_text = \"Our city is investing in renewable energy and climate adaptation.\"\n",
    "risk_score, positive_score = predict_scores(new_text, model, tokenizer)\n",
    "print(f\"Text: {new_text}\")\n",
    "print(f\"\"\"Predicted Risk Score: {risk_score * 10:.2f} \n",
    "        (Expected: renewable energy({risk_scores['renewable energy']}),\n",
    "         climate adaptation({risk_scores['climate adaptation']}))\"\"\")\n",
    "print(f\"\"\"Predicted Positive Score: {positive_score * 10:.2f} \n",
    "        (Expected: renewable energy({positive_scores['renewable energy']}),\n",
    "        climate adaptation({positive_scores['climate adaptation']}))\"\"\")"
   ]
  },
  {
   "cell_type": "markdown",
   "id": "fd9a507a-94b7-4e38-b0c2-344831428db6",
   "metadata": {},
   "source": [
    "这表示该文本的risk score 接近 renewable energy 和 climate adaptation（8分） 的分数），positive score较高（接近 renewable energy 和 climate adaptation（8分） 的分数）。"
   ]
  },
  {
   "cell_type": "markdown",
   "id": "fd5a17fd-70dc-4b4e-9c3e-14a436887ec1",
   "metadata": {},
   "source": [
    "### 4.5 近似意思测试\n",
    "为了验证模型的泛化能力，我们可以测试一段不直接包含训练集关键词但意思相近的文本。例如："
   ]
  },
  {
   "cell_type": "code",
   "execution_count": 93,
   "id": "0551b725-f98e-4b94-b72b-0aaf5832e2e9",
   "metadata": {},
   "outputs": [
    {
     "name": "stdout",
     "output_type": "stream",
     "text": [
      "Text: Our city is investing in clean energy initiatives and disaster preparedness.\n",
      "Predicted Risk Score: 5.35 \n",
      "        (Expected: renewable energy(2),\n",
      "        climate adaptation(3))\n",
      "Predicted Positive Score: 6.67\n",
      "        (Expected: renewable energy(10),\n",
      "        climate adaptation(8))\n"
     ]
    }
   ],
   "source": [
    "# 测试近似意思的文本\n",
    "new_text = \"Our city is investing in clean energy initiatives \" \\\n",
    "            \"and disaster preparedness.\"\n",
    "risk_score, positive_score = predict_scores(new_text, model, tokenizer)\n",
    "print(f\"Text: {new_text}\")\n",
    "print(f\"\"\"Predicted Risk Score: {risk_score * 10:.2f} \n",
    "        (Expected: renewable energy({risk_scores['renewable energy']}),\n",
    "        climate adaptation({risk_scores['climate adaptation']}))\"\"\")\n",
    "print(f\"\"\"Predicted Positive Score: {positive_score * 10:.2f}\n",
    "        (Expected: renewable energy({positive_scores['renewable energy']}),\n",
    "        climate adaptation({positive_scores['climate adaptation']}))\"\"\")"
   ]
  },
  {
   "cell_type": "markdown",
   "id": "e640fb53-94b0-48af-ae65-d56609c94744",
   "metadata": {},
   "source": [
    "这表示模型能够识别“clean energy initiatives”（近似 renewable energy）和“disaster preparedness”（近似 climate adaptation）的含义，并给出合理的分数。"
   ]
  },
  {
   "cell_type": "markdown",
   "id": "cf847b94-5329-4f8b-bab3-7fbb7d4dcc54",
   "metadata": {},
   "source": [
    "## 5. 模型不足与改进建议"
   ]
  },
  {
   "cell_type": "markdown",
   "id": "607dff9d-5bd4-41be-9e94-563d2ce7f219",
   "metadata": {},
   "source": [
    "### 5.1 数据量不足"
   ]
  },
  {
   "cell_type": "markdown",
   "id": "8ec92825-4a6e-4567-a9f1-d8c47931497c",
   "metadata": {},
   "source": [
    "目前的数据集仅包含25个关键词，数据量有限，这可能导致模型出现过拟合或在新数据上的泛化能力不足。为改善这一问题，未来采取以下措施：\n",
    "- 扩展训练数据集，从公开的气候变化相关文档中提取更多文本，并手动标注风险和正面分数。\n",
    "- 采用数据增强技术，如同义词替换或使用生成对抗网络（GAN）生成与原始文本相似的样本。\n",
    "- 增加更多与气候变化和环境政策相关的关键词，并为其手动标注风险和正面分数。例如，添加“sustainable development”和“carbon neutrality”等关键词。\n",
    "- 除了关键词，加入完整的句子或段落作为训练数据，例如：“The region is suffering from severe drought due to climate change”可标注为高风险（10）和低正面（2）。\n",
    "- 通过同义词替换、句子改写等技术生成更多训练数据。例如，可以将“renewable energy”替换为“clean energy”或“green energy”以丰富语料库。"
   ]
  },
  {
   "cell_type": "markdown",
   "id": "7ee057ae-1298-4fa1-a184-4e81238202ae",
   "metadata": {},
   "source": [
    "### 5.2 使用领域特定模型\n",
    "bert-base-uncased 是一个通用的预训练模型，适用于多种任务。未来考虑使用以下领域特定的预训练模型：\n",
    "- distilbert-base-uncased：一个更轻量的模型，适用于数据量较小的任务，具有较低的计算开销。\n",
    "- ClimateBERT（climatebert/distilroberta-base-climate-f）：专为气候变化任务设计，能够更好地理解与气候变化相关的术语和上下文。\n",
    "- SciBERT（allenai/scibert_scivocab_uncased）：针对科学领域的模型，适合处理与环境科学相关的文本，尤其在专业术语处理上表现出色。"
   ]
  },
  {
   "cell_type": "markdown",
   "id": "c3f5a967-ba67-4da6-b32b-1457df58f8d0",
   "metadata": {},
   "source": [
    "## 6. 结论"
   ]
  },
  {
   "cell_type": "markdown",
   "id": "bb4594d2-b4c9-4ff8-8e96-0a32f3e749c8",
   "metadata": {},
   "source": [
    "本文通过双维度分析（风险与积极性），全面评估气候相关关键词的影响，不仅能够识别潜在风险，还能衡量其正面作用。随后，利用自然语言处理（NLP）技术和预训练模型（如BERT）对关键词及其得分进行训练，模型评估结果表明已取得一定成效。在给定新的文本内容后，模型能够提供较为合理的预测分数。\n",
    "\n",
    "本文提出的方法可用于气候风险评估，助力政府、企业及研究人员优化气候管理和应对策略。未来可通过结合专家评分、NLP技术以及大语言模型进一步提升风险与积极性评估的精确度和适用性。"
   ]
  }
 ],
 "metadata": {
  "kernelspec": {
   "display_name": "Python 3 (ipykernel)",
   "language": "python",
   "name": "python3"
  },
  "language_info": {
   "codemirror_mode": {
    "name": "ipython",
    "version": 3
   },
   "file_extension": ".py",
   "mimetype": "text/x-python",
   "name": "python",
   "nbconvert_exporter": "python",
   "pygments_lexer": "ipython3",
   "version": "3.11.5"
  }
 },
 "nbformat": 4,
 "nbformat_minor": 5
}
